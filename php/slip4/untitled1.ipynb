{
  "cells": [
    {
      "cell_type": "code",
      "execution_count": null,
      "metadata": {},
      "outputs": [],
      "source": [
        "import numpy as np\n",
        "import matplotlib.pyplot as plt\n",
        "\n",
        "data = np.random.randint(1, 101, 50)\n",
        "\n",
        "# Line Chart\n",
        "plt.figure(figsize = (12, 8))\n",
        "plt.subplot(2, 2, 1)\n",
        "plt.plot(data, color = 'blue')\n",
        "plt.title(\"Line Chart\")\n",
        "plt.xlabel(\"Index\")\n",
        "plt.ylabel(\"Value\")\n",
        "\n",
        "# Scatter Plot\n",
        "plt.subplot(2, 2, 2)\n",
        "plt.scatter(range(50), data, color = 'red')\n",
        "plt.title(\"Scatter Plot\")\n",
        "plt.xlabel(\"Index\")\n",
        "plt.ylabel(\"Value\")\n",
        "\n",
        "# Histogram\n",
        "plt.subplot(2, 2, 3)\n",
        "plt.hist(data, color = 'green')\n",
        "plt.title(\"Histogram\")\n",
        "plt.xlabel(\"Value\")\n",
        "plt.ylabel(\"Frequency\")\n",
        "\n",
        "# Box Plot\n",
        "plt.subplot(2, 2, 4)\n",
        "plt.boxplot(data)\n",
        "plt.title(\"Box Plot\")\n",
        "plt.ylabel(\"Value\")\n",
        "\n",
        "plt.tight_layout()\n",
        "plt.show()"
      ]
    }
  ],
  "metadata": {
    "kernelspec": {
      "display_name": "Python 3",
      "language": "python",
      "name": "python3"
    },
    "language_info": {
      "file_extension": ".py",
      "mimetype": "text/x-python",
      "name": "python",
      "version": "3.x"
    }
  },
  "nbformat": 4,
  "nbformat_minor": 5
}