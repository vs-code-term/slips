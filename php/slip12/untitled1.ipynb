{
  "cells": [
    {
      "cell_type": "code",
      "execution_count": null,
      "metadata": {},
      "outputs": [],
      "source": [
        "import matplotlib.pyplot as plt\n",
        "import numpy as np\n",
        "\n",
        "data = np.random.randint(1, 101, 50)\n",
        "x = np.arange(1, 51)\n",
        "\n",
        "# Line chart\n",
        "plt.plot(x, data)\n",
        "plt.title('Line Chart')\n",
        "plt.show()\n",
        "\n",
        "# Scatter plot\n",
        "plt.scatter(x, data)\n",
        "plt.title('Scatter Plot')\n",
        "plt.show()\n",
        "\n",
        "# Histogram\n",
        "plt.hist(data)\n",
        "plt.title('Histogram')\n",
        "plt.show()\n",
        "\n",
        "# Box plot\n",
        "plt.boxplot(data)\n",
        "plt.title('Box Plot')\n",
        "plt.show()"
      ]
    }
  ],
  "metadata": {
    "kernelspec": {
      "display_name": "Python 3",
      "language": "python",
      "name": "python3"
    },
    "language_info": {
      "file_extension": ".py",
      "mimetype": "text/x-python",
      "name": "python",
      "version": "3.x"
    }
  },
  "nbformat": 4,
  "nbformat_minor": 5
}