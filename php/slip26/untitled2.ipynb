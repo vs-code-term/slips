{
  "cells": [
    {
      "cell_type": "code",
      "execution_count": null,
      "metadata": {},
      "outputs": [],
      "source": [
        "import matplotlib.pyplot as plt\n",
        "\n",
        "# Two lists\n",
        "subjects = [\"Math\", \"Science\", \"English\", \"History\", \"Geography\"]\n",
        "marks = [85, 90, 78, 88, 76]\n",
        "\n",
        "# Bar chart\n",
        "plt.bar(subjects, marks)\n",
        "plt.title(\"Marks in Subjects\")\n",
        "plt.xlabel(\"Subjects\")\n",
        "plt.ylabel(\"Marks\")\n",
        "plt.show()"
      ]
    }
  ],
  "metadata": {
    "kernelspec": {
      "display_name": "Python 3",
      "language": "python",
      "name": "python3"
    },
    "language_info": {
      "file_extension": ".py",
      "mimetype": "text/x-python",
      "name": "python",
      "version": "3.x"
    }
  },
  "nbformat": 4,
  "nbformat_minor": 5
}