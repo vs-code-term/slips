{
  "cells": [
    {
      "cell_type": "code",
      "execution_count": null,
      "metadata": {},
      "outputs": [],
      "source": [
        "import pandas as pd\n",
        "\n",
        "df = pd.read_csv(\"Data.csv\")\n",
        "\n",
        "print(\"Original Data (with missing values):\")\n",
        "print(df, \"\")\n",
        "\n",
        "df['salary'].fillna(df['salary'].mean(), inplace=True)\n",
        "df['age'].fillna(df['age'].mean(), inplace=True)\n",
        "\n",
        "print(\"Data after handling missing values (salary & age replaced with mean):\")\n",
        "print(df)"
      ]
    }
  ],
  "metadata": {
    "kernelspec": {
      "display_name": "Python 3",
      "language": "python",
      "name": "python3"
    },
    "language_info": {
      "file_extension": ".py",
      "mimetype": "text/x-python",
      "name": "python",
      "version": "3.x"
    }
  },
  "nbformat": 4,
  "nbformat_minor": 5
}