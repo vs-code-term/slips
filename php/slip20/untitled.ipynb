{
  "cells": [
    {
      "cell_type": "code",
      "execution_count": null,
      "metadata": {},
      "outputs": [],
      "source": [
        "import numpy as np\n",
        "import matplotlib.pyplot as plt\n",
        "\n",
        "# Generate random array of 50 integers\n",
        "data = np.random.randint(1, 101, 50)\n",
        "x = np.arange(1, 51)\n",
        "\n",
        "# Line Chart\n",
        "plt.plot(x, data, color='blue', marker='o')\n",
        "plt.title('Line Chart')\n",
        "plt.xlabel('Index')\n",
        "plt.ylabel('Value')\n",
        "plt.show()\n",
        "\n",
        "# Scatter Plot\n",
        "plt.scatter(x, data, color='red')\n",
        "plt.title('Scatter Plot')\n",
        "plt.xlabel('Index')\n",
        "plt.ylabel('Value')\n",
        "plt.show()\n",
        "\n",
        "# Histogram\n",
        "plt.hist(data, bins=10, color='green', edgecolor='black')\n",
        "plt.title('Histogram')\n",
        "plt.xlabel('Value')\n",
        "plt.ylabel('Frequency')\n",
        "plt.show()\n",
        "\n",
        "# Box Plot\n",
        "plt.boxplot(data, patch_artist=True, boxprops=dict(facecolor='orange'))\n",
        "plt.title('Box Plot')\n",
        "plt.show()"
      ]
    }
  ],
  "metadata": {
    "kernelspec": {
      "display_name": "Python 3",
      "language": "python",
      "name": "python3"
    },
    "language_info": {
      "file_extension": ".py",
      "mimetype": "text/x-python",
      "name": "python",
      "version": "3.x"
    }
  },
  "nbformat": 4,
  "nbformat_minor": 5
}