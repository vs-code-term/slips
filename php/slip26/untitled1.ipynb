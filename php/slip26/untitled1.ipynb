{
  "cells": [
    {
      "cell_type": "code",
      "execution_count": null,
      "metadata": {},
      "outputs": [],
      "source": [
        "import numpy as np\n",
        "import matplotlib.pyplot as plt\n",
        "\n",
        "data = np.random.randint(10, 100, 50)\n",
        "\n",
        "plt.figure(figsize=(12, 10))\n",
        "\n",
        "# Line Chart\n",
        "plt.subplot(2, 2, 1)\n",
        "plt.plot(data, marker='o', color='blue', linestyle='-', linewidth=2, markersize=6)\n",
        "plt.title(\"Line Chart of Random Integers\")\n",
        "plt.xlabel(\"Index\")\n",
        "plt.ylabel(\"Value\")\n",
        "plt.grid(True, linestyle='--', alpha=0.6)\n",
        "\n",
        "# Scatter Plot\n",
        "plt.subplot(2, 2, 2)\n",
        "plt.scatter(range(len(data)), data, color='green', marker='x', s=80)\n",
        "plt.title(\"Scatter Plot of Random Integers\")\n",
        "plt.xlabel(\"Index\")\n",
        "plt.ylabel(\"Value\")\n",
        "plt.grid(True, linestyle='--', alpha=0.6)\n",
        "\n",
        "# Histogram\n",
        "plt.subplot(2, 2, 3)\n",
        "plt.hist(data, bins=10, color='orange', edgecolor='black', alpha=0.7)\n",
        "plt.title(\"Histogram of Random Integers\")\n",
        "plt.xlabel(\"Value Range\")\n",
        "plt.ylabel(\"Frequency\")\n",
        "plt.grid(True, linestyle='--', alpha=0.6)\n",
        "\n",
        "# Box Plot\n",
        "plt.subplot(2, 2, 4)\n",
        "plt.boxplot(data, patch_artist=True, boxprops=dict(facecolor=\"lightblue\"))\n",
        "plt.title(\"Box Plot of Random Integers\")\n",
        "plt.ylabel(\"Value\")\n",
        "plt.grid(True, linestyle='--', alpha=0.6)\n",
        "\n",
        "# Adjust layout\n",
        "plt.tight_layout()\n",
        "plt.show()"
      ]
    }
  ],
  "metadata": {
    "kernelspec": {
      "display_name": "Python 3",
      "language": "python",
      "name": "python3"
    },
    "language_info": {
      "file_extension": ".py",
      "mimetype": "text/x-python",
      "name": "python",
      "version": "3.x"
    }
  },
  "nbformat": 4,
  "nbformat_minor": 5
}