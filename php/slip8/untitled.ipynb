{
  "cells": [
    {
      "cell_type": "code",
      "execution_count": null,
      "metadata": {},
      "outputs": [],
      "source": [
        "import pandas as pd\n",
        "from sklearn.preprocessing import StandardScaler\n",
        "\n",
        "df = pd.read_csv(\"winequality-red.csv\")\n",
        "\n",
        "print(\"Original Data (first 5 rows):\")\n",
        "print(df.head())\n",
        "\n",
        "features = df.drop('quality', axis=1) if 'quality' in df.columns else df\n",
        "\n",
        "scaler = StandardScaler()\n",
        "\n",
        "scaled_features = scaler.fit_transform(features)\n",
        "\n",
        "df_scaled = pd.DataFrame(scaled_features, columns=features.columns)\n",
        "\n",
        "if 'quality' in df.columns:\n",
        "    df_scaled['quality'] = df['quality']\n",
        "\n",
        "print(\"\\nStandardized Data (first 5 rows):\")\n",
        "print(df_scaled.head())\n",
        "\n",
        "print(\"\\nMean of each feature after standardization:\")\n",
        "print(df_scaled.mean())\n",
        "\n",
        "print(\"\\nStandard deviation of each feature after standardization:\")\n",
        "print(df_scaled.std())"
      ]
    }
  ],
  "metadata": {
    "kernelspec": {
      "display_name": "Python 3",
      "language": "python",
      "name": "python3"
    },
    "language_info": {
      "file_extension": ".py",
      "mimetype": "text/x-python",
      "name": "python",
      "version": "3.x"
    }
  },
  "nbformat": 4,
  "nbformat_minor": 5
}