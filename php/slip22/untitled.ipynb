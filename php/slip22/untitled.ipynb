{
  "cells": [
    {
      "cell_type": "code",
      "execution_count": null,
      "metadata": {},
      "outputs": [],
      "source": [
        "import pandas as pd\n",
        "from sklearn.preprocessing import MinMaxScaler, StandardScaler, Normalizer\n",
        "\n",
        "# Load dataset\n",
        "df = pd.read_csv(\"winequality-red.csv\")\n",
        "\n",
        "# Select numeric columns for processing\n",
        "data = df.select_dtypes(include=['float64', 'int64'])\n",
        "\n",
        "# a) Rescaling using MinMaxScaler\n",
        "scaler = MinMaxScaler()\n",
        "data_rescaled = scaler.fit_transform(data)\n",
        "print(\"Rescaled Data (Min-Max):\")\n",
        "print(pd.DataFrame(data_rescaled, columns=data.columns).head())\n",
        "\n",
        "# b) Standardizing data using StandardScaler\n",
        "standardizer = StandardScaler()\n",
        "data_standardized = standardizer.fit_transform(data)\n",
        "print(\"\\nStandardized Data (Mean=0, Std=1):\")\n",
        "print(pd.DataFrame(data_standardized, columns=data.columns).head())\n",
        "\n",
        "# c) Normalizing data using Normalizer (unit norm)\n",
        "normalizer = Normalizer()\n",
        "data_normalized = normalizer.fit_transform(data)\n",
        "print(\"\\nNormalized Data (Unit Norm):\")\n",
        "print(pd.DataFrame(data_normalized, columns=data.columns).head())"
      ]
    }
  ],
  "metadata": {
    "kernelspec": {
      "display_name": "Python 3",
      "language": "python",
      "name": "python3"
    },
    "language_info": {
      "file_extension": ".py",
      "mimetype": "text/x-python",
      "name": "python",
      "version": "3.x"
    }
  },
  "nbformat": 4,
  "nbformat_minor": 5
}