{
  "cells": [
    {
      "cell_type": "code",
      "execution_count": null,
      "metadata": {},
      "outputs": [],
      "source": [
        "import pandas as pd\n",
        "from sklearn.preprocessing import OneHotEncoder, LabelEncoder\n",
        "\n",
        "data = {\n",
        "    \"Country\": [\"India\", \"USA\", \"UK\", \"India\", \"USA\", \"UK\"],\n",
        "    \"Purchased\": [\"Yes\", \"No\", \"Yes\", \"No\", \"Yes\", \"No\"]\n",
        "}\n",
        "df = pd.DataFrame(data)\n",
        "df.to_csv(\"data.csv\", index=False)\n",
        "print(\"Original Dataset:\\n\", df)\n",
        "\n",
        "encoder = OneHotEncoder(sparse_output=False)\n",
        "country_encoded = encoder.fit_transform(df[[\"Country\"]])\n",
        "country_df = pd.DataFrame(country_encoded, columns=encoder.get_feature_names_out([\"Country\"]))\n",
        "\n",
        "label_encoder = LabelEncoder()\n",
        "df[\"Purchased_Encoded\"] = label_encoder.fit_transform(df[\"Purchased\"])\n",
        "\n",
        "final_df = pd.concat([country_df, df[\"Purchased_Encoded\"]], axis=1)\n",
        "print(\"\\nAfter Encoding:\\n\", final_df)"
      ]
    }
  ],
  "metadata": {
    "kernelspec": {
      "display_name": "Python 3",
      "language": "python",
      "name": "python3"
    },
    "language_info": {
      "file_extension": ".py",
      "mimetype": "text/x-python",
      "name": "python",
      "version": "3.x"
    }
  },
  "nbformat": 4,
  "nbformat_minor": 5
}