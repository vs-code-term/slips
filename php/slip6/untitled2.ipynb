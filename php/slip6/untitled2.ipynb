{
  "cells": [
    {
      "cell_type": "code",
      "execution_count": null,
      "metadata": {},
      "outputs": [],
      "source": [
        "import pandas as pd\n",
        "import matplotlib.pyplot as plt\n",
        "\n",
        "df = pd.read_csv(\"Data.csv\")\n",
        "\n",
        "df['salary'].fillna(df['salary'].mean(), inplace = True)\n",
        "\n",
        "plt.figure(figsize = (10, 6))\n",
        "plt.plot(df['name'], df['salary'], marker = 'o', linestyle = '-', color = 'blue')\n",
        "\n",
        "plt.title(\"Name vs Salary\", fontsize = 16)\n",
        "plt.xlabel(\"Name\", fontsize = 12)\n",
        "plt.ylabel(\"Salary\", fontsize = 12)\n",
        "plt.grid(True)\n",
        "\n",
        "plt.show()"
      ]
    }
  ],
  "metadata": {
    "kernelspec": {
      "display_name": "Python 3",
      "language": "python",
      "name": "python3"
    },
    "language_info": {
      "file_extension": ".py",
      "mimetype": "text/x-python",
      "name": "python",
      "version": "3.x"
    }
  },
  "nbformat": 4,
  "nbformat_minor": 5
}