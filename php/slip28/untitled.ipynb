{
  "cells": [
    {
      "cell_type": "code",
      "execution_count": null,
      "metadata": {},
      "outputs": [],
      "source": [
        "import pandas as pd\n",
        "import numpy as np\n",
        "\n",
        "data = {\n",
        "    \"Name\": [\"Amit\", \"Neha\", \"Rahul\", \"Priya\", \"Ravi\", \"Sneha\", \"Arjun\", \"Kiran\", \"Pooja\", \"Raj\"],\n",
        "    \"Age\": [21, 22, 23, 21, 24, 22, 23, 25, 24, 22],\n",
        "    \"Percentage\": [78, 85, 67, 90, 76, 82, 88, 69, 95, 80]\n",
        "}\n",
        "df = pd.DataFrame(data)\n",
        "print(\"1. DataFrame:\\n\", df)\n",
        "\n",
        "print(\"\\n2. Shape of DataFrame:\", df.shape)\n",
        "print(\"Number of Rows:\", df.shape[0])\n",
        "print(\"Number of Columns:\", df.shape[1])\n",
        "print(\"\\nData Types:\\n\", df.dtypes)\n",
        "print(\"\\nFeature Names (Columns):\", df.columns.tolist())\n",
        "print(\"\\nDescription of Data:\\n\", df.describe(include='all'))\n",
        "\n",
        "print(\"\\n3. Basic Statistical Details:\\n\", df.describe())\n",
        "\n",
        "extra_data = {\n",
        "    \"Name\": [\"Amit\", \"Neha\", None, \"Priya\", None],\n",
        "    \"Age\": [21, None, 23, None, 22],\n",
        "    \"Percentage\": [78, 85, None, 90, None]\n",
        "}\n",
        "df_extra = pd.DataFrame(extra_data)\n",
        "df_final = pd.concat([df, df_extra], ignore_index=True)\n",
        "\n",
        "df_final[\"Remarks\"] = \"\"\n",
        "\n",
        "print(\"\\n4. Final Data with Duplicates, Missing values and Remarks column:\\n\", df_final)"
      ]
    }
  ],
  "metadata": {
    "kernelspec": {
      "display_name": "Python 3",
      "language": "python",
      "name": "python3"
    },
    "language_info": {
      "file_extension": ".py",
      "mimetype": "text/x-python",
      "name": "python",
      "version": "3.x"
    }
  },
  "nbformat": 4,
  "nbformat_minor": 5
}