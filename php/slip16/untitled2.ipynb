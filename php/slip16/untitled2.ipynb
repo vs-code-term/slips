{
  "cells": [
    {
      "cell_type": "code",
      "execution_count": null,
      "metadata": {},
      "outputs": [],
      "source": [
        "import pandas as pd\n",
        "\n",
        "# Create DataFrame\n",
        "data = {\n",
        "    'Name': ['John', 'Alice', 'Bob', 'Eva', 'David'],\n",
        "    'Graduation_Percentage': [85, 90, 78, 92, 88],\n",
        "    'Age': [22, 23, 21, 24, 22]\n",
        "}\n",
        "\n",
        "df = pd.DataFrame(data)\n",
        "\n",
        "# Display DataFrame\n",
        "print(\"Students DataFrame:\")\n",
        "print(df)\n",
        "\n",
        "# Compute averages\n",
        "avg_age = df['Age'].mean()\n",
        "avg_percentage = df['Graduation_Percentage'].mean()\n",
        "\n",
        "print(\"\\nAverage Age of Students:\", avg_age)\n",
        "print(\"Average Graduation Percentage:\", avg_percentage)"
      ]
    }
  ],
  "metadata": {
    "kernelspec": {
      "display_name": "Python 3",
      "language": "python",
      "name": "python3"
    },
    "language_info": {
      "file_extension": ".py",
      "mimetype": "text/x-python",
      "name": "python",
      "version": "3.x"
    }
  },
  "nbformat": 4,
  "nbformat_minor": 5
}