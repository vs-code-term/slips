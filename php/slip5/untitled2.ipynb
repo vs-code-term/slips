{
  "cells": [
    {
      "cell_type": "code",
      "execution_count": null,
      "metadata": {},
      "outputs": [],
      "source": [
        "import pandas as pd\n",
        "\n",
        "df = pd.read_csv(\"Data.csv\")\n",
        "\n",
        "print(\"Shape of dataset:\", df.shape)\n",
        "\n",
        "print(\"Number of rows:\", df.shape[0])\n",
        "print(\"Number of columns:\", df.shape[1])\n",
        "\n",
        "print(\"Data types of each column:\")\n",
        "print(df.dtypes)\n",
        "\n",
        "print(\"Feature names:\")\n",
        "print(df.columns.tolist())\n",
        "\n",
        "print(\"Description of data:\")\n",
        "print(df.describe())"
      ]
    }
  ],
  "metadata": {
    "kernelspec": {
      "display_name": "Python 3",
      "language": "python",
      "name": "python3"
    },
    "language_info": {
      "file_extension": ".py",
      "mimetype": "text/x-python",
      "name": "python",
      "version": "3.x"
    }
  },
  "nbformat": 4,
  "nbformat_minor": 5
}