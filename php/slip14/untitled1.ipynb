{
  "cells": [
    {
      "cell_type": "code",
      "execution_count": null,
      "metadata": {},
      "outputs": [],
      "source": [
        "import numpy as np\n",
        "\n",
        "arr = np.array([[3, 7, 1], [9, 2, 5]])\n",
        "\n",
        "flat_arr = arr.flatten()\n",
        "\n",
        "weights = np.array([0.1, 0.2, 0.1, 0.2, 0.2, 0.2])\n",
        "\n",
        "weighted_avg = np.average(flat_arr, weights=weights)\n",
        "\n",
        "print(\"Weighted average:\", weighted_avg)"
      ]
    }
  ],
  "metadata": {
    "kernelspec": {
      "display_name": "Python 3",
      "language": "python",
      "name": "python3"
    },
    "language_info": {
      "file_extension": ".py",
      "mimetype": "text/x-python",
      "name": "python",
      "version": "3.x"
    }
  },
  "nbformat": 4,
  "nbformat_minor": 5
}