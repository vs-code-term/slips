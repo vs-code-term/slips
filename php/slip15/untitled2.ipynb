{
  "cells": [
    {
      "cell_type": "code",
      "execution_count": null,
      "metadata": {},
      "outputs": [],
      "source": [
        "import matplotlib.pyplot as plt\n",
        "\n",
        "# Lists\n",
        "subjects = ['Math', 'Physics', 'Chemistry', 'Biology', 'English']\n",
        "marks = [85, 78, 90, 75, 80]\n",
        "\n",
        "# Pie chart\n",
        "plt.pie(marks, labels=subjects, autopct='%1.1f%%')\n",
        "plt.title('Marks Distribution')\n",
        "plt.show()"
      ]
    }
  ],
  "metadata": {
    "kernelspec": {
      "display_name": "Python 3",
      "language": "python",
      "name": "python3"
    },
    "language_info": {
      "file_extension": ".py",
      "mimetype": "text/x-python",
      "name": "python",
      "version": "3.x"
    }
  },
  "nbformat": 4,
  "nbformat_minor": 5
}