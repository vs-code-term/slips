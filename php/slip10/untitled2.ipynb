{
  "cells": [
    {
      "cell_type": "code",
      "execution_count": null,
      "metadata": {},
      "outputs": [],
      "source": [
        "import itertools\n",
        "\n",
        "points = [(1, 2), (3, 4), (5, 0), (2, 1)]\n",
        "\n",
        "total_distance = 0\n",
        "\n",
        "for (x1, y1), (x2, y2) in itertools.combinations(points, 2):\n",
        "    total_distance += abs(x1 - x2) + abs(y1 - y2)\n",
        "\n",
        "print(\"Sum of Manhattan distances between all pairs:\", total_distance)"
      ]
    }
  ],
  "metadata": {
    "kernelspec": {
      "display_name": "Python 3",
      "language": "python",
      "name": "python3"
    },
    "language_info": {
      "file_extension": ".py",
      "mimetype": "text/x-python",
      "name": "python",
      "version": "3.x"
    }
  },
  "nbformat": 4,
  "nbformat_minor": 5
}