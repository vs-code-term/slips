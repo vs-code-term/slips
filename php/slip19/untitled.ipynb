{
  "cells": [
    {
      "cell_type": "code",
      "execution_count": null,
      "metadata": {},
      "outputs": [],
      "source": [
        "import pandas as pd\n",
        "import numpy as np\n",
        "\n",
        "data = {\n",
        "    'Name': ['John', 'Alice', 'Bob', 'Eva', 'David', 'Frank', 'Grace', 'Helen', 'Irene', 'Jack'],\n",
        "    'Age': [22, 23, 21, 24, 22, 25, 23, 21, 24, 22],\n",
        "    'Percentage': [85, 90, 78, 92, 88, 80, 95, 87, 89, 91]\n",
        "}\n",
        "\n",
        "df = pd.DataFrame(data)\n",
        "\n",
        "print(\"Original DataFrame:\\n\", df)\n",
        "\n",
        "print(\"\\nShape of DataFrame:\", df.shape)\n",
        "print(\"Number of rows:\", df.shape[0])\n",
        "print(\"Number of columns:\", df.shape[1])\n",
        "print(\"\\nData Types:\\n\", df.dtypes)\n",
        "print(\"\\nFeature Names:\", df.columns.tolist())\n",
        "print(\"\\nDescription of Data:\\n\", df.describe())\n",
        "\n",
        "new_rows = pd.DataFrame({\n",
        "    'Name': ['John', 'Alice', None, 'Eva', 'Frank'],\n",
        "    'Age': [22, None, 21, 24, None],\n",
        "    'Percentage': [85, 90, None, None, 80]\n",
        "})\n",
        "\n",
        "df['Remarks'] = ''\n",
        "\n",
        "df = pd.concat([df, new_rows], ignore_index=True)\n",
        "\n",
        "print(\"\\nDataFrame after adding new rows and Remarks column:\\n\", df)"
      ]
    }
  ],
  "metadata": {
    "kernelspec": {
      "display_name": "Python 3",
      "language": "python",
      "name": "python3"
    },
    "language_info": {
      "file_extension": ".py",
      "mimetype": "text/x-python",
      "name": "python",
      "version": "3.x"
    }
  },
  "nbformat": 4,
  "nbformat_minor": 5
}