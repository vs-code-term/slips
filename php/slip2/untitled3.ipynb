{
  "cells": [
    {
      "cell_type": "code",
      "execution_count": null,
      "metadata": {},
      "outputs": [],
      "source": [
        "import pandas as pd\n",
        "\n",
        "df = pd.read_csv(\"HeightWeight.csv\")\n",
        "\n",
        "print(\"First 10 rows:\")\n",
        "print(df.head(10))\n",
        "\n",
        "print(\"Last 10 rows:\")\n",
        "print(df.tail(10))\n",
        "\n",
        "print(\"Random 20 rows:\")\n",
        "print(df.sample(20))\n",
        "\n",
        "print(\"Shape of the dataset:\", df.shape)"
      ]
    }
  ],
  "metadata": {
    "kernelspec": {
      "display_name": "Python 3",
      "language": "python",
      "name": "python3"
    },
    "language_info": {
      "file_extension": ".py",
      "mimetype": "text/x-python",
      "name": "python",
      "version": "3.x"
    }
  },
  "nbformat": 4,
  "nbformat_minor": 5
}