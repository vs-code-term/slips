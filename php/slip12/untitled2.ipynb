{
  "cells": [
    {
      "cell_type": "code",
      "execution_count": null,
      "metadata": {},
      "outputs": [],
      "source": [
        "import pandas as pd\n",
        "import numpy as np\n",
        "\n",
        "data = {\n",
        "    'Name': ['John', 'Alice', 'Bob', 'David', 'Eva', 'Frank', 'Grace', 'Helen', None, 'John'],\n",
        "    'Salary': [50000, 60000, 55000, None, 75000, 62000, 60000, 58000, 70000, 50000],\n",
        "    'Department': ['HR', 'IT', 'Finance', 'IT', 'HR', None, 'Finance', 'IT', 'HR', 'HR']\n",
        "}\n",
        "\n",
        "df = pd.DataFrame(data)\n",
        "\n",
        "print(\"Original DataFrame:\")\n",
        "print(df)\n",
        "\n",
        "df_modified = df.dropna()\n",
        "df_modified = df_modified[~(df_modified == '').any(axis=1)]\n",
        "\n",
        "print(\"\\nModified DataFrame (after dropping None/empty values):\")\n",
        "print(df_modified)"
      ]
    }
  ],
  "metadata": {
    "kernelspec": {
      "display_name": "Python 3",
      "language": "python",
      "name": "python3"
    },
    "language_info": {
      "file_extension": ".py",
      "mimetype": "text/x-python",
      "name": "python",
      "version": "3.x"
    }
  },
  "nbformat": 4,
  "nbformat_minor": 5
}