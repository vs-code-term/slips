{
  "cells": [
    {
      "cell_type": "code",
      "execution_count": null,
      "metadata": {},
      "outputs": [],
      "source": [
        "import pandas as pd\n",
        "from sklearn.preprocessing import OneHotEncoder, LabelEncoder\n",
        "\n",
        "# Load dataset\n",
        "df = pd.read_csv(\"data.csv\")\n",
        "print(\"Original Data:\\n\", df)\n",
        "\n",
        "# a. Apply OneHot encoding on Country column\n",
        "onehot = OneHotEncoder()\n",
        "country_encoded = onehot.fit_transform(df[[\"country\"]]).toarray()\n",
        "country_df = pd.DataFrame(country_encoded, columns=onehot.get_feature_names_out([\"country\"]))\n",
        "\n",
        "# b. Apply Label encoding on Purchased column\n",
        "label = LabelEncoder()\n",
        "df[\"Purchased_Encoded\"] = label.fit_transform(df[\"purchased\"])\n",
        "\n",
        "# Combine results\n",
        "final_df = pd.concat([country_df, df[[\"purchased\", \"Purchased_Encoded\"]]], axis=1)\n",
        "print(\"\\nTransformed Data:\\n\", final_df)"
      ]
    }
  ],
  "metadata": {
    "kernelspec": {
      "display_name": "Python 3",
      "language": "python",
      "name": "python3"
    },
    "language_info": {
      "file_extension": ".py",
      "mimetype": "text/x-python",
      "name": "python",
      "version": "3.x"
    }
  },
  "nbformat": 4,
  "nbformat_minor": 5
}