{
  "cells": [
    {
      "cell_type": "code",
      "execution_count": null,
      "metadata": {},
      "outputs": [],
      "source": [
        "import matplotlib.pyplot as plt\n",
        "\n",
        "# Lists\n",
        "subjects = [\"Math\", \"Science\", \"English\", \"History\", \"Computer\"]\n",
        "marks = [85, 90, 78, 88, 95]\n",
        "\n",
        "# Bar Chart\n",
        "plt.bar(subjects, marks, color='skyblue')\n",
        "plt.title(\"Marks in Subjects\")\n",
        "plt.xlabel(\"Subjects\")\n",
        "plt.ylabel(\"Marks\")\n",
        "plt.show()"
      ]
    }
  ],
  "metadata": {
    "kernelspec": {
      "display_name": "Python 3",
      "language": "python",
      "name": "python3"
    },
    "language_info": {
      "file_extension": ".py",
      "mimetype": "text/x-python",
      "name": "python",
      "version": "3.x"
    }
  },
  "nbformat": 4,
  "nbformat_minor": 5
}