{
  "cells": [
    {
      "cell_type": "code",
      "execution_count": null,
      "metadata": {},
      "outputs": [],
      "source": [
        "import pandas as pd\n",
        "import matplotlib.pyplot as plt\n",
        "\n",
        "# Load dataset\n",
        "df = pd.read_csv(\"iris.csv\")\n",
        "\n",
        "# Bar Plot for frequency of species\n",
        "species_counts = df['Species'].value_counts()\n",
        "plt.bar(species_counts.index, species_counts.values, color=['red', 'green', 'blue'])\n",
        "plt.xlabel('Species')\n",
        "plt.ylabel('Frequency')\n",
        "plt.title('Frequency of Iris Species (Bar Plot)')\n",
        "plt.show()\n",
        "\n",
        "# Histogram for species\n",
        "plt.hist(df['Species'], color='skyblue', edgecolor='black')\n",
        "plt.xlabel('Species')\n",
        "plt.ylabel('Frequency')\n",
        "plt.title('Histogram of Iris Species')\n",
        "plt.show()"
      ]
    }
  ],
  "metadata": {
    "kernelspec": {
      "display_name": "Python 3",
      "language": "python",
      "name": "python3"
    },
    "language_info": {
      "file_extension": ".py",
      "mimetype": "text/x-python",
      "name": "python",
      "version": "3.x"
    }
  },
  "nbformat": 4,
  "nbformat_minor": 5
}