{
  "cells": [
    {
      "cell_type": "code",
      "execution_count": null,
      "metadata": {},
      "outputs": [],
      "source": [
        "import pandas as pd\n",
        "from sklearn.preprocessing import LabelEncoder\n",
        "\n",
        "df = pd.read_csv(\"Data.csv\")\n",
        "\n",
        "print(\"Original Data:\")\n",
        "print(df.head())\n",
        "\n",
        "df = pd.get_dummies(df, columns=['Country'])\n",
        "\n",
        "le = LabelEncoder()\n",
        "df['Purchased'] = le.fit_transform(df['Purchased'])\n",
        "\n",
        "print(\"\\nData after One-Hot and Label Encoding:\")\n",
        "print(df.head())"
      ]
    }
  ],
  "metadata": {
    "kernelspec": {
      "display_name": "Python 3",
      "language": "python",
      "name": "python3"
    },
    "language_info": {
      "file_extension": ".py",
      "mimetype": "text/x-python",
      "name": "python",
      "version": "3.x"
    }
  },
  "nbformat": 4,
  "nbformat_minor": 5
}